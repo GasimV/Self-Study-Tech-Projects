{
 "cells": [
  {
   "cell_type": "code",
   "execution_count": null,
   "id": "d58c66eb-6d53-4632-b931-76e5997c2cd2",
   "metadata": {
    "id": "d58c66eb-6d53-4632-b931-76e5997c2cd2"
   },
   "outputs": [],
   "source": [
    "import numpy as np\n",
    "import json\n",
    "import re\n",
    "import os\n",
    "import string\n",
    "\n",
    "import tensorflow as tf\n",
    "from tensorflow.keras import layers, models, callbacks, losses"
   ]
  },
  {
   "cell_type": "code",
   "execution_count": null,
   "id": "47f01a69-a989-4017-b3e9-354f9edde7c2",
   "metadata": {
    "colab": {
     "base_uri": "https://localhost:8080/"
    },
    "id": "47f01a69-a989-4017-b3e9-354f9edde7c2",
    "outputId": "1ac1786a-5b61-4f81-c521-ddfb3a7af5e9"
   },
   "outputs": [],
   "source": [
    "# Check if GPU is detected\n",
    "print(\"TensorFlow version:\", tf.__version__)\n",
    "print(\"GPU available:\", tf.config.list_physical_devices('GPU'))\n",
    "\n",
    "# Optionally, log devices being used\n",
    "from tensorflow.python.client import device_lib\n",
    "print(device_lib.list_local_devices())"
   ]
  },
  {
   "cell_type": "code",
   "execution_count": null,
   "id": "b5bf636e-1c34-4106-a272-f16e558dd581",
   "metadata": {
    "id": "b5bf636e-1c34-4106-a272-f16e558dd581"
   },
   "outputs": [],
   "source": [
    "# To run on CPU, in case of unavailable GPU or the issue related to CUDA/cuDNN setup.\n",
    "# try creating a new virtual environment and install the CPU-only version of TensorFlow:\n",
    "\n",
    "# pip install tensorflow-cpu"
   ]
  },
  {
   "cell_type": "markdown",
   "id": "f6cc0272-9180-4c69-a98b-21535847194c",
   "metadata": {
    "id": "f6cc0272-9180-4c69-a98b-21535847194c"
   },
   "source": [
    "## 0. Parameters"
   ]
  },
  {
   "cell_type": "code",
   "execution_count": 3,
   "id": "e404eee0-7428-496c-9d49-1862ab1c8b33",
   "metadata": {
    "id": "e404eee0-7428-496c-9d49-1862ab1c8b33"
   },
   "outputs": [],
   "source": [
    "VOCAB_SIZE = 10000\n",
    "MAX_LEN = 200\n",
    "EMBEDDING_DIM = 100\n",
    "N_UNITS = 128\n",
    "VALIDATION_SPLIT = 0.2\n",
    "SEED = 42\n",
    "LOAD_MODEL = False\n",
    "BATCH_SIZE = 32\n",
    "EPOCHS = 25"
   ]
  },
  {
   "cell_type": "markdown",
   "id": "b55b6fe2-d4a9-4474-9082-5a135cffea09",
   "metadata": {
    "id": "b55b6fe2-d4a9-4474-9082-5a135cffea09"
   },
   "source": [
    "## 1. Load the data"
   ]
  },
  {
   "cell_type": "markdown",
   "id": "f14a2a39-40f4-48e4-97bf-f649b3768a34",
   "metadata": {
    "id": "f14a2a39-40f4-48e4-97bf-f649b3768a34",
    "jp-MarkdownHeadingCollapsed": true
   },
   "source": [
    "### For Local Downloading"
   ]
  },
  {
   "cell_type": "code",
   "execution_count": null,
   "id": "54b09b42-f4ee-4294-a029-db10cb788737",
   "metadata": {
    "id": "54b09b42-f4ee-4294-a029-db10cb788737"
   },
   "outputs": [],
   "source": [
    "import os\n",
    "import shutil\n",
    "\n",
    "# Create the .kaggle folder in your user directory if it doesn't exist\n",
    "kaggle_dir = os.path.expanduser(\"~/.kaggle\")\n",
    "os.makedirs(kaggle_dir, exist_ok=True)\n",
    "\n",
    "# Move the kaggle.json file from your working directory to ~/.kaggle\n",
    "shutil.copy(\"kaggle.json\", os.path.join(kaggle_dir, \"kaggle.json\"))\n",
    "\n",
    "# Set permissions if needed (safe on Unix-like systems; ignored on Windows)\n",
    "os.chmod(os.path.join(kaggle_dir, \"kaggle.json\"), 0o600)"
   ]
  },
  {
   "cell_type": "code",
   "execution_count": null,
   "id": "bc1f2eae-228e-4b55-a08f-9a4dae2eb8a3",
   "metadata": {
    "id": "bc1f2eae-228e-4b55-a08f-9a4dae2eb8a3"
   },
   "outputs": [],
   "source": [
    "# !pip install kaggle"
   ]
  },
  {
   "cell_type": "code",
   "execution_count": null,
   "id": "6b1e9e6e-696b-4573-b3c6-3e896d169e01",
   "metadata": {
    "id": "6b1e9e6e-696b-4573-b3c6-3e896d169e01"
   },
   "outputs": [],
   "source": [
    "!kaggle datasets download -d hugodarwood/epirecipes"
   ]
  },
  {
   "cell_type": "code",
   "execution_count": null,
   "id": "764afba7-7255-4d48-90e7-9f4e4468bd92",
   "metadata": {
    "id": "764afba7-7255-4d48-90e7-9f4e4468bd92"
   },
   "outputs": [],
   "source": [
    "import zipfile\n",
    "\n",
    "with zipfile.ZipFile(\"epirecipes.zip\", 'r') as zip_ref:\n",
    "    zip_ref.extractall(\"epirecipes\")"
   ]
  },
  {
   "cell_type": "markdown",
   "id": "d0227750-0cb4-46be-8608-d015a28f99f3",
   "metadata": {
    "id": "d0227750-0cb4-46be-8608-d015a28f99f3"
   },
   "source": [
    "### For Colab Downloading"
   ]
  },
  {
   "cell_type": "code",
   "execution_count": null,
   "id": "ebaabb4d-1d92-45c1-aa8f-614f8c17662b",
   "metadata": {
    "colab": {
     "base_uri": "https://localhost:8080/",
     "height": 73
    },
    "id": "59540aa1-045e-4202-af6c-fc582148329c",
    "outputId": "ebc63d95-3771-4ef1-dcc7-8ab1967fe295"
   },
   "outputs": [],
   "source": [
    "# 1. Go to Kaggle → Account Settings\n",
    "# - Click \"Create New API Token\" → this downloads kaggle.json.\n",
    "\n",
    "# 2. Upload it in Colab:\n",
    "\n",
    "from google.colab import files\n",
    "uploaded = files.upload()  # Upload the kaggle.json file here"
   ]
  },
  {
   "cell_type": "code",
   "execution_count": 5,
   "id": "3b88ba0a-c50d-4e08-9289-75202a417dee",
   "metadata": {
    "id": "3b88ba0a-c50d-4e08-9289-75202a417dee"
   },
   "outputs": [],
   "source": [
    "# Setup the API credentials:\n",
    "\n",
    "!mkdir -p ~/.kaggle\n",
    "!mv kaggle.json ~/.kaggle/\n",
    "!chmod 600 ~/.kaggle/kaggle.json"
   ]
  },
  {
   "cell_type": "code",
   "execution_count": 6,
   "id": "74b727fa-5dbb-4023-a7e8-0c4876975b65",
   "metadata": {
    "colab": {
     "base_uri": "https://localhost:8080/"
    },
    "id": "74b727fa-5dbb-4023-a7e8-0c4876975b65",
    "outputId": "5aeec360-30d6-43d4-dd09-44f1ed041f01"
   },
   "outputs": [
    {
     "name": "stdout",
     "output_type": "stream",
     "text": [
      "Dataset URL: https://www.kaggle.com/datasets/hugodarwood/epirecipes\n",
      "License(s): unknown\n",
      "Downloading epirecipes.zip to /content\n",
      "  0% 0.00/11.3M [00:00<?, ?B/s]\n",
      "100% 11.3M/11.3M [00:00<00:00, 1.17GB/s]\n"
     ]
    }
   ],
   "source": [
    "!kaggle datasets download -d hugodarwood/epirecipes\n",
    "!unzip -q epirecipes.zip -d epirecipes"
   ]
  },
  {
   "cell_type": "markdown",
   "id": "1defb1d1-18d7-4d8c-8990-892f8bddbab4",
   "metadata": {
    "id": "1defb1d1-18d7-4d8c-8990-892f8bddbab4"
   },
   "source": [
    "### Load the full dataset"
   ]
  },
  {
   "cell_type": "code",
   "execution_count": 7,
   "id": "e8d744da-be49-49a6-a284-8c8fc54cfe6f",
   "metadata": {
    "id": "e8d744da-be49-49a6-a284-8c8fc54cfe6f"
   },
   "outputs": [],
   "source": [
    "# Load the full dataset\n",
    "with open(\"epirecipes/full_format_recipes.json\") as json_data:\n",
    "    recipe_data = json.load(json_data)"
   ]
  },
  {
   "cell_type": "code",
   "execution_count": 8,
   "id": "d70bcde8-deea-4a4d-af64-c00683a7afd3",
   "metadata": {
    "id": "d70bcde8-deea-4a4d-af64-c00683a7afd3"
   },
   "outputs": [],
   "source": [
    "# Filter the dataset\n",
    "filtered_data = [\n",
    "    \"Recipe for \" + x[\"title\"] + \" | \" + \" \".join(x[\"directions\"])\n",
    "    for x in recipe_data\n",
    "    if \"title\" in x\n",
    "    and x[\"title\"] is not None\n",
    "    and \"directions\" in x\n",
    "    and x[\"directions\"] is not None\n",
    "]"
   ]
  },
  {
   "cell_type": "code",
   "execution_count": 9,
   "id": "d928a19d-71cd-4a6d-b8bf-980d97225ae0",
   "metadata": {
    "colab": {
     "base_uri": "https://localhost:8080/"
    },
    "id": "d928a19d-71cd-4a6d-b8bf-980d97225ae0",
    "outputId": "586866cc-a795-4926-dbea-27fec73a88e6"
   },
   "outputs": [
    {
     "name": "stdout",
     "output_type": "stream",
     "text": [
      "20111 recipes loaded\n"
     ]
    }
   ],
   "source": [
    "# Count the recipes\n",
    "n_recipes = len(filtered_data)\n",
    "print(f\"{n_recipes} recipes loaded\")"
   ]
  },
  {
   "cell_type": "code",
   "execution_count": 10,
   "id": "a22c8e30-7fe2-434a-8ef0-017dc08ab456",
   "metadata": {
    "colab": {
     "base_uri": "https://localhost:8080/"
    },
    "id": "a22c8e30-7fe2-434a-8ef0-017dc08ab456",
    "outputId": "45b88c75-5cac-4f9e-f532-e7ccd022fdba"
   },
   "outputs": [
    {
     "name": "stdout",
     "output_type": "stream",
     "text": [
      "Recipe for Ham Persillade with Mustard Potato Salad and Mashed Peas  | Chop enough parsley leaves to measure 1 tablespoon; reserve. Chop remaining leaves and stems and simmer with broth and garlic in a small saucepan, covered, 5 minutes. Meanwhile, sprinkle gelatin over water in a medium bowl and let soften 1 minute. Strain broth through a fine-mesh sieve into bowl with gelatin and stir to dissolve. Season with salt and pepper. Set bowl in an ice bath and cool to room temperature, stirring. Toss ham with reserved parsley and divide among jars. Pour gelatin on top and chill until set, at least 1 hour. Whisk together mayonnaise, mustard, vinegar, 1/4 teaspoon salt, and 1/4 teaspoon pepper in a large bowl. Stir in celery, cornichons, and potatoes. Pulse peas with marjoram, oil, 1/2 teaspoon pepper, and 1/4 teaspoon salt in a food processor to a coarse mash. Layer peas, then potato salad, over ham.\n"
     ]
    }
   ],
   "source": [
    "example = filtered_data[9]\n",
    "print(example)"
   ]
  },
  {
   "cell_type": "markdown",
   "id": "1a0325dc-7922-4abf-8bb3-b8cf8bd94337",
   "metadata": {
    "id": "1a0325dc-7922-4abf-8bb3-b8cf8bd94337"
   },
   "source": [
    "## 2. Tokenise the data"
   ]
  },
  {
   "cell_type": "code",
   "execution_count": 11,
   "id": "bdb4f46f-9992-473f-a79c-4606608e560d",
   "metadata": {
    "id": "bdb4f46f-9992-473f-a79c-4606608e560d"
   },
   "outputs": [],
   "source": [
    "# Pad the punctuation, to treat them as separate 'words'\n",
    "def pad_punctuation(s):\n",
    "    s = re.sub(f\"([{string.punctuation}])\", r\" \\1 \", s)\n",
    "    s = re.sub(\" +\", \" \", s)\n",
    "    return s\n",
    "\n",
    "\n",
    "text_data = [pad_punctuation(x) for x in filtered_data]"
   ]
  },
  {
   "cell_type": "code",
   "execution_count": 12,
   "id": "c56b7c48-41d4-4c79-80b5-b05a20948f87",
   "metadata": {
    "colab": {
     "base_uri": "https://localhost:8080/",
     "height": 174
    },
    "id": "c56b7c48-41d4-4c79-80b5-b05a20948f87",
    "outputId": "d7a3ae94-3e32-46da-b54c-e1ca5109a541"
   },
   "outputs": [
    {
     "data": {
      "application/vnd.google.colaboratory.intrinsic+json": {
       "type": "string"
      },
      "text/plain": [
       "'Recipe for Ham Persillade with Mustard Potato Salad and Mashed Peas | Chop enough parsley leaves to measure 1 tablespoon ; reserve . Chop remaining leaves and stems and simmer with broth and garlic in a small saucepan , covered , 5 minutes . Meanwhile , sprinkle gelatin over water in a medium bowl and let soften 1 minute . Strain broth through a fine - mesh sieve into bowl with gelatin and stir to dissolve . Season with salt and pepper . Set bowl in an ice bath and cool to room temperature , stirring . Toss ham with reserved parsley and divide among jars . Pour gelatin on top and chill until set , at least 1 hour . Whisk together mayonnaise , mustard , vinegar , 1 / 4 teaspoon salt , and 1 / 4 teaspoon pepper in a large bowl . Stir in celery , cornichons , and potatoes . Pulse peas with marjoram , oil , 1 / 2 teaspoon pepper , and 1 / 4 teaspoon salt in a food processor to a coarse mash . Layer peas , then potato salad , over ham . '"
      ]
     },
     "execution_count": 12,
     "metadata": {},
     "output_type": "execute_result"
    }
   ],
   "source": [
    "# Display an example of a recipe\n",
    "example_data = text_data[9]\n",
    "example_data"
   ]
  },
  {
   "cell_type": "code",
   "execution_count": 13,
   "id": "b775ddd9-5cd2-4c6f-b9e7-c3d97d6d7f59",
   "metadata": {
    "id": "b775ddd9-5cd2-4c6f-b9e7-c3d97d6d7f59"
   },
   "outputs": [],
   "source": [
    "# Convert to a Tensorflow Dataset\n",
    "text_ds = (\n",
    "    tf.data.Dataset.from_tensor_slices(text_data)\n",
    "    .batch(BATCH_SIZE)\n",
    "    .shuffle(1000)\n",
    ")"
   ]
  },
  {
   "cell_type": "code",
   "execution_count": 14,
   "id": "3620a71d-3429-410c-810f-9ea605356de4",
   "metadata": {
    "id": "3620a71d-3429-410c-810f-9ea605356de4"
   },
   "outputs": [],
   "source": [
    "# Create a vectorisation layer\n",
    "vectorize_layer = layers.TextVectorization(\n",
    "    standardize=\"lower\",\n",
    "    max_tokens=VOCAB_SIZE,\n",
    "    output_mode=\"int\",\n",
    "    output_sequence_length=MAX_LEN + 1,\n",
    ")"
   ]
  },
  {
   "cell_type": "code",
   "execution_count": 15,
   "id": "e6449cce-69e4-492c-8fe5-5878ce1e326d",
   "metadata": {
    "id": "e6449cce-69e4-492c-8fe5-5878ce1e326d"
   },
   "outputs": [],
   "source": [
    "# Adapt the layer to the training set\n",
    "vectorize_layer.adapt(text_ds)\n",
    "vocab = vectorize_layer.get_vocabulary()"
   ]
  },
  {
   "cell_type": "code",
   "execution_count": 16,
   "id": "8e7894d7-523e-4d27-b829-bc72ac1ba5c1",
   "metadata": {
    "colab": {
     "base_uri": "https://localhost:8080/"
    },
    "id": "8e7894d7-523e-4d27-b829-bc72ac1ba5c1",
    "outputId": "48372124-e5ef-4bd1-8d91-22c15c3e1e40"
   },
   "outputs": [
    {
     "name": "stdout",
     "output_type": "stream",
     "text": [
      "0: \n",
      "1: [UNK]\n",
      "2: .\n",
      "3: ,\n",
      "4: and\n",
      "5: to\n",
      "6: in\n",
      "7: the\n",
      "8: with\n",
      "9: a\n"
     ]
    }
   ],
   "source": [
    "# Display some token:word mappings\n",
    "for i, word in enumerate(vocab[:10]):\n",
    "    print(f\"{i}: {word}\")"
   ]
  },
  {
   "cell_type": "code",
   "execution_count": 17,
   "id": "fce9a77f-0d70-402b-baea-13d101942929",
   "metadata": {
    "colab": {
     "base_uri": "https://localhost:8080/"
    },
    "id": "fce9a77f-0d70-402b-baea-13d101942929",
    "outputId": "e52493f8-1a53-4974-9011-1ac49d949c3e"
   },
   "outputs": [
    {
     "name": "stdout",
     "output_type": "stream",
     "text": [
      "[  26   16  557    1    8  298  335  189    4 1054  494   27  332  228\n",
      "  235  262    5  594   11  133   22  311    2  332   45  262    4  671\n",
      "    4   70    8  171    4   81    6    9   65   80    3  121    3   59\n",
      "   12    2  299    3   88  650   20   39    6    9   29   21    4   67\n",
      "  529   11  164    2  320  171  102    9  374   13  643  306   25   21\n",
      "    8  650    4   42    5  931    2   63    8   24    4   33    2  114\n",
      "   21    6  178  181 1245    4   60    5  140  112    3   48    2  117\n",
      "  557    8  285  235    4  200  292  980    2  107  650   28   72    4\n",
      "  108   10  114    3   57  204   11  172    2   73  110  482    3  298\n",
      "    3  190    3   11   23   32  142   24    3    4   11   23   32  142\n",
      "   33    6    9   30   21    2   42    6  353    3 3224    3    4  150\n",
      "    2  437  494    8 1281    3   37    3   11   23   15  142   33    3\n",
      "    4   11   23   32  142   24    6    9  291  188    5    9  412  572\n",
      "    2  230  494    3   46  335  189    3   20  557    2    0    0    0\n",
      "    0    0    0    0    0]\n"
     ]
    }
   ],
   "source": [
    "# Display the same example converted to ints\n",
    "example_tokenised = vectorize_layer(example_data)\n",
    "print(example_tokenised.numpy())"
   ]
  },
  {
   "cell_type": "markdown",
   "id": "b4668a43-ec18-4102-aa49-4a27bad65045",
   "metadata": {
    "id": "b4668a43-ec18-4102-aa49-4a27bad65045"
   },
   "source": [
    "## 3. Create the Training Set"
   ]
  },
  {
   "cell_type": "code",
   "execution_count": 18,
   "id": "d14106e3-0e63-4df6-9c7b-07b4d243829f",
   "metadata": {
    "id": "d14106e3-0e63-4df6-9c7b-07b4d243829f"
   },
   "outputs": [],
   "source": [
    "# Create the training set of recipes and the same text shifted by one word\n",
    "def prepare_inputs(text):\n",
    "    text = tf.expand_dims(text, -1)\n",
    "    tokenized_sentences = vectorize_layer(text)\n",
    "    x = tokenized_sentences[:, :-1]\n",
    "    y = tokenized_sentences[:, 1:]\n",
    "    return x, y\n",
    "\n",
    "\n",
    "train_ds = text_ds.map(prepare_inputs)"
   ]
  },
  {
   "cell_type": "markdown",
   "id": "4aa00f07-0e22-41ce-a56a-879b45cbeb0f",
   "metadata": {
    "id": "4aa00f07-0e22-41ce-a56a-879b45cbeb0f"
   },
   "source": [
    "## 4. Build the LSTM"
   ]
  },
  {
   "cell_type": "code",
   "execution_count": 19,
   "id": "c9d48420-a874-43d2-bd5e-14f55be1efb7",
   "metadata": {
    "colab": {
     "base_uri": "https://localhost:8080/",
     "height": 257
    },
    "id": "c9d48420-a874-43d2-bd5e-14f55be1efb7",
    "outputId": "0a017e47-7dea-4678-e5e9-69be5b593106"
   },
   "outputs": [
    {
     "data": {
      "text/html": [
       "<pre style=\"white-space:pre;overflow-x:auto;line-height:normal;font-family:Menlo,'DejaVu Sans Mono',consolas,'Courier New',monospace\"><span style=\"font-weight: bold\">Model: \"functional\"</span>\n",
       "</pre>\n"
      ],
      "text/plain": [
       "\u001b[1mModel: \"functional\"\u001b[0m\n"
      ]
     },
     "metadata": {},
     "output_type": "display_data"
    },
    {
     "data": {
      "text/html": [
       "<pre style=\"white-space:pre;overflow-x:auto;line-height:normal;font-family:Menlo,'DejaVu Sans Mono',consolas,'Courier New',monospace\">┏━━━━━━━━━━━━━━━━━━━━━━━━━━━━━━━━━┳━━━━━━━━━━━━━━━━━━━━━━━━┳━━━━━━━━━━━━━━━┓\n",
       "┃<span style=\"font-weight: bold\"> Layer (type)                    </span>┃<span style=\"font-weight: bold\"> Output Shape           </span>┃<span style=\"font-weight: bold\">       Param # </span>┃\n",
       "┡━━━━━━━━━━━━━━━━━━━━━━━━━━━━━━━━━╇━━━━━━━━━━━━━━━━━━━━━━━━╇━━━━━━━━━━━━━━━┩\n",
       "│ input_layer (<span style=\"color: #0087ff; text-decoration-color: #0087ff\">InputLayer</span>)        │ (<span style=\"color: #00d7ff; text-decoration-color: #00d7ff\">None</span>, <span style=\"color: #00d7ff; text-decoration-color: #00d7ff\">None</span>)           │             <span style=\"color: #00af00; text-decoration-color: #00af00\">0</span> │\n",
       "├─────────────────────────────────┼────────────────────────┼───────────────┤\n",
       "│ embedding (<span style=\"color: #0087ff; text-decoration-color: #0087ff\">Embedding</span>)           │ (<span style=\"color: #00d7ff; text-decoration-color: #00d7ff\">None</span>, <span style=\"color: #00d7ff; text-decoration-color: #00d7ff\">None</span>, <span style=\"color: #00af00; text-decoration-color: #00af00\">100</span>)      │     <span style=\"color: #00af00; text-decoration-color: #00af00\">1,000,000</span> │\n",
       "├─────────────────────────────────┼────────────────────────┼───────────────┤\n",
       "│ lstm (<span style=\"color: #0087ff; text-decoration-color: #0087ff\">LSTM</span>)                     │ (<span style=\"color: #00d7ff; text-decoration-color: #00d7ff\">None</span>, <span style=\"color: #00d7ff; text-decoration-color: #00d7ff\">None</span>, <span style=\"color: #00af00; text-decoration-color: #00af00\">128</span>)      │       <span style=\"color: #00af00; text-decoration-color: #00af00\">117,248</span> │\n",
       "├─────────────────────────────────┼────────────────────────┼───────────────┤\n",
       "│ dense (<span style=\"color: #0087ff; text-decoration-color: #0087ff\">Dense</span>)                   │ (<span style=\"color: #00d7ff; text-decoration-color: #00d7ff\">None</span>, <span style=\"color: #00d7ff; text-decoration-color: #00d7ff\">None</span>, <span style=\"color: #00af00; text-decoration-color: #00af00\">10000</span>)    │     <span style=\"color: #00af00; text-decoration-color: #00af00\">1,290,000</span> │\n",
       "└─────────────────────────────────┴────────────────────────┴───────────────┘\n",
       "</pre>\n"
      ],
      "text/plain": [
       "┏━━━━━━━━━━━━━━━━━━━━━━━━━━━━━━━━━┳━━━━━━━━━━━━━━━━━━━━━━━━┳━━━━━━━━━━━━━━━┓\n",
       "┃\u001b[1m \u001b[0m\u001b[1mLayer (type)                   \u001b[0m\u001b[1m \u001b[0m┃\u001b[1m \u001b[0m\u001b[1mOutput Shape          \u001b[0m\u001b[1m \u001b[0m┃\u001b[1m \u001b[0m\u001b[1m      Param #\u001b[0m\u001b[1m \u001b[0m┃\n",
       "┡━━━━━━━━━━━━━━━━━━━━━━━━━━━━━━━━━╇━━━━━━━━━━━━━━━━━━━━━━━━╇━━━━━━━━━━━━━━━┩\n",
       "│ input_layer (\u001b[38;5;33mInputLayer\u001b[0m)        │ (\u001b[38;5;45mNone\u001b[0m, \u001b[38;5;45mNone\u001b[0m)           │             \u001b[38;5;34m0\u001b[0m │\n",
       "├─────────────────────────────────┼────────────────────────┼───────────────┤\n",
       "│ embedding (\u001b[38;5;33mEmbedding\u001b[0m)           │ (\u001b[38;5;45mNone\u001b[0m, \u001b[38;5;45mNone\u001b[0m, \u001b[38;5;34m100\u001b[0m)      │     \u001b[38;5;34m1,000,000\u001b[0m │\n",
       "├─────────────────────────────────┼────────────────────────┼───────────────┤\n",
       "│ lstm (\u001b[38;5;33mLSTM\u001b[0m)                     │ (\u001b[38;5;45mNone\u001b[0m, \u001b[38;5;45mNone\u001b[0m, \u001b[38;5;34m128\u001b[0m)      │       \u001b[38;5;34m117,248\u001b[0m │\n",
       "├─────────────────────────────────┼────────────────────────┼───────────────┤\n",
       "│ dense (\u001b[38;5;33mDense\u001b[0m)                   │ (\u001b[38;5;45mNone\u001b[0m, \u001b[38;5;45mNone\u001b[0m, \u001b[38;5;34m10000\u001b[0m)    │     \u001b[38;5;34m1,290,000\u001b[0m │\n",
       "└─────────────────────────────────┴────────────────────────┴───────────────┘\n"
      ]
     },
     "metadata": {},
     "output_type": "display_data"
    },
    {
     "data": {
      "text/html": [
       "<pre style=\"white-space:pre;overflow-x:auto;line-height:normal;font-family:Menlo,'DejaVu Sans Mono',consolas,'Courier New',monospace\"><span style=\"font-weight: bold\"> Total params: </span><span style=\"color: #00af00; text-decoration-color: #00af00\">2,407,248</span> (9.18 MB)\n",
       "</pre>\n"
      ],
      "text/plain": [
       "\u001b[1m Total params: \u001b[0m\u001b[38;5;34m2,407,248\u001b[0m (9.18 MB)\n"
      ]
     },
     "metadata": {},
     "output_type": "display_data"
    },
    {
     "data": {
      "text/html": [
       "<pre style=\"white-space:pre;overflow-x:auto;line-height:normal;font-family:Menlo,'DejaVu Sans Mono',consolas,'Courier New',monospace\"><span style=\"font-weight: bold\"> Trainable params: </span><span style=\"color: #00af00; text-decoration-color: #00af00\">2,407,248</span> (9.18 MB)\n",
       "</pre>\n"
      ],
      "text/plain": [
       "\u001b[1m Trainable params: \u001b[0m\u001b[38;5;34m2,407,248\u001b[0m (9.18 MB)\n"
      ]
     },
     "metadata": {},
     "output_type": "display_data"
    },
    {
     "data": {
      "text/html": [
       "<pre style=\"white-space:pre;overflow-x:auto;line-height:normal;font-family:Menlo,'DejaVu Sans Mono',consolas,'Courier New',monospace\"><span style=\"font-weight: bold\"> Non-trainable params: </span><span style=\"color: #00af00; text-decoration-color: #00af00\">0</span> (0.00 B)\n",
       "</pre>\n"
      ],
      "text/plain": [
       "\u001b[1m Non-trainable params: \u001b[0m\u001b[38;5;34m0\u001b[0m (0.00 B)\n"
      ]
     },
     "metadata": {},
     "output_type": "display_data"
    }
   ],
   "source": [
    "inputs = layers.Input(shape=(None,), dtype=\"int32\")\n",
    "x = layers.Embedding(VOCAB_SIZE, EMBEDDING_DIM)(inputs)\n",
    "x = layers.LSTM(N_UNITS, return_sequences=True)(x)\n",
    "outputs = layers.Dense(VOCAB_SIZE, activation=\"softmax\")(x)\n",
    "lstm = models.Model(inputs, outputs)\n",
    "lstm.summary()"
   ]
  },
  {
   "cell_type": "code",
   "execution_count": 20,
   "id": "24856d26-e94b-463f-835b-c5171fdf47b0",
   "metadata": {
    "id": "24856d26-e94b-463f-835b-c5171fdf47b0"
   },
   "outputs": [],
   "source": [
    "if LOAD_MODEL:\n",
    "    # model.load_weights('./models/model')\n",
    "    lstm = models.load_model(\"./models/lstm\", compile=False)"
   ]
  },
  {
   "cell_type": "markdown",
   "id": "57f02786-f678-4477-9d23-54d9b3e0b368",
   "metadata": {
    "id": "57f02786-f678-4477-9d23-54d9b3e0b368"
   },
   "source": [
    "## 5. Train the LSTM"
   ]
  },
  {
   "cell_type": "code",
   "execution_count": 21,
   "id": "9bd35842-8742-4109-a184-ac23f3f16b5a",
   "metadata": {
    "id": "9bd35842-8742-4109-a184-ac23f3f16b5a"
   },
   "outputs": [],
   "source": [
    "loss_fn = losses.SparseCategoricalCrossentropy()\n",
    "lstm.compile(\"adam\", loss_fn)"
   ]
  },
  {
   "cell_type": "code",
   "execution_count": 22,
   "id": "eb66695c-137e-4e73-8678-db10374b8cf4",
   "metadata": {
    "id": "eb66695c-137e-4e73-8678-db10374b8cf4"
   },
   "outputs": [],
   "source": [
    "# Create a TextGenerator checkpoint\n",
    "class TextGenerator(callbacks.Callback):\n",
    "    def __init__(self, index_to_word, top_k=10):\n",
    "        self.index_to_word = index_to_word\n",
    "        self.word_to_index = {\n",
    "            word: index for index, word in enumerate(index_to_word)\n",
    "        }  # <1>\n",
    "\n",
    "    def sample_from(self, probs, temperature):  # <2>\n",
    "        probs = probs ** (1 / temperature)\n",
    "        probs = probs / np.sum(probs)\n",
    "        return np.random.choice(len(probs), p=probs), probs\n",
    "\n",
    "    def generate(self, start_prompt, max_tokens, temperature):\n",
    "        start_tokens = [\n",
    "            self.word_to_index.get(x, 1) for x in start_prompt.split()\n",
    "        ]  # <3>\n",
    "        sample_token = None\n",
    "        info = []\n",
    "        while len(start_tokens) < max_tokens and sample_token != 0:  # <4>\n",
    "            x = np.array([start_tokens])\n",
    "            y = self.model.predict(x, verbose=0)  # <5>\n",
    "            sample_token, probs = self.sample_from(y[0][-1], temperature)  # <6>\n",
    "            info.append({\"prompt\": start_prompt, \"word_probs\": probs})\n",
    "            start_tokens.append(sample_token)  # <7>\n",
    "            start_prompt = start_prompt + \" \" + self.index_to_word[sample_token]\n",
    "        print(f\"\\ngenerated text:\\n{start_prompt}\\n\")\n",
    "        return info\n",
    "\n",
    "    def on_epoch_end(self, epoch, logs=None):\n",
    "        self.generate(\"recipe for\", max_tokens=100, temperature=1.0)"
   ]
  },
  {
   "cell_type": "code",
   "execution_count": 23,
   "id": "89f7fbc3-73b5-4878-88c2-831832699939",
   "metadata": {
    "id": "89f7fbc3-73b5-4878-88c2-831832699939"
   },
   "outputs": [],
   "source": [
    "# Create a model save checkpoint\n",
    "model_checkpoint_callback = callbacks.ModelCheckpoint(\n",
    "    filepath=\"./checkpoint/checkpoint.weights.h5\",\n",
    "    save_weights_only=True,\n",
    "    save_freq=\"epoch\",\n",
    "    verbose=0,\n",
    ")\n",
    "\n",
    "tensorboard_callback = callbacks.TensorBoard(log_dir=\"./logs\")\n",
    "\n",
    "# Tokenize starting prompt\n",
    "text_generator = TextGenerator(vocab)"
   ]
  },
  {
   "cell_type": "code",
   "execution_count": null,
   "id": "d0bb0378-f8a6-4e2a-af16-3c8802b43a96",
   "metadata": {
    "colab": {
     "base_uri": "https://localhost:8080/"
    },
    "id": "d0bb0378-f8a6-4e2a-af16-3c8802b43a96",
    "outputId": "f930c6f0-6656-42e6-f63a-3e55c657eaed"
   },
   "outputs": [],
   "source": [
    "history = lstm.fit(\n",
    "    train_ds,\n",
    "    epochs=EPOCHS,\n",
    "    callbacks=[model_checkpoint_callback, tensorboard_callback, text_generator],\n",
    ")"
   ]
  },
  {
   "cell_type": "code",
   "execution_count": 25,
   "id": "b36d8f9a-bf65-41ce-a033-72fb069cce44",
   "metadata": {
    "colab": {
     "base_uri": "https://localhost:8080/",
     "height": 564
    },
    "id": "b36d8f9a-bf65-41ce-a033-72fb069cce44",
    "outputId": "f6298f25-8bc5-4126-8b65-beca02f401c8"
   },
   "outputs": [
    {
     "data": {
      "image/png": "[encoded data removed]",
      "text/plain": [
       "<Figure size 1000x600 with 1 Axes>"
      ]
     },
     "metadata": {},
     "output_type": "display_data"
    }
   ],
   "source": [
    "import matplotlib.pyplot as plt\n",
    "\n",
    "# Extract the loss values\n",
    "loss = history.history['loss']\n",
    "\n",
    "# Plot the loss over epochs\n",
    "plt.figure(figsize=(10, 6))\n",
    "plt.plot(range(1, len(loss)+1), loss, marker='o')\n",
    "plt.title(\"Loss over Epochs\")\n",
    "plt.xlabel(\"Epoch\")\n",
    "plt.ylabel(\"Loss\")\n",
    "plt.grid(True)\n",
    "plt.show()"
   ]
  },
  {
   "cell_type": "code",
   "execution_count": 26,
   "id": "0fd4340d-6d29-4f79-bde0-338872f91b45",
   "metadata": {
    "id": "0fd4340d-6d29-4f79-bde0-338872f91b45"
   },
   "outputs": [],
   "source": [
    "# Create the 'models' directory if it doesn't exist\n",
    "os.makedirs(\"./models\", exist_ok=True)\n",
    "\n",
    "# Save the final model\n",
    "lstm.save(\"./models/lstm.keras\")"
   ]
  },
  {
   "cell_type": "markdown",
   "id": "VrhDD9RbTnOa",
   "metadata": {
    "id": "VrhDD9RbTnOa"
   },
   "source": [
    "## 6. Generate text using the LSTM"
   ]
  },
  {
   "cell_type": "code",
   "execution_count": 27,
   "id": "pZ8bowf6TU3v",
   "metadata": {
    "id": "pZ8bowf6TU3v"
   },
   "outputs": [],
   "source": [
    "def print_probs(info, vocab, top_k=5):\n",
    "    for i in info:\n",
    "        print(f\"\\nPROMPT: {i['prompt']}\")\n",
    "        word_probs = i[\"word_probs\"]\n",
    "        p_sorted = np.sort(word_probs)[::-1][:top_k]\n",
    "        i_sorted = np.argsort(word_probs)[::-1][:top_k]\n",
    "        for p, i in zip(p_sorted, i_sorted):\n",
    "            print(f\"{vocab[i]}:   \\t{np.round(100*p,2)}%\")\n",
    "        print(\"--------\\n\")"
   ]
  },
  {
   "cell_type": "code",
   "execution_count": 28,
   "id": "MYDC9CUUTqtk",
   "metadata": {
    "colab": {
     "base_uri": "https://localhost:8080/"
    },
    "id": "MYDC9CUUTqtk",
    "outputId": "00adb38d-6afd-4bde-ceee-d6a6d9c8c452"
   },
   "outputs": [
    {
     "name": "stdout",
     "output_type": "stream",
     "text": [
      "\n",
      "generated text:\n",
      "recipe for roasted vegetables | chop 1 / 8 cup\n",
      "\n"
     ]
    }
   ],
   "source": [
    "info = text_generator.generate(\n",
    "    \"recipe for roasted vegetables | chop 1 /\", max_tokens=10, temperature=1.0\n",
    ")"
   ]
  },
  {
   "cell_type": "code",
   "execution_count": 29,
   "id": "5gBI0aG4Tsbx",
   "metadata": {
    "colab": {
     "base_uri": "https://localhost:8080/"
    },
    "id": "5gBI0aG4Tsbx",
    "outputId": "4713baac-5b8c-449d-cf00-ad12fc14b96e"
   },
   "outputs": [
    {
     "name": "stdout",
     "output_type": "stream",
     "text": [
      "\n",
      "PROMPT: recipe for roasted vegetables | chop 1 /\n",
      "4:   \t48.459999084472656%\n",
      "2:   \t33.869998931884766%\n",
      "3:   \t14.100000381469727%\n",
      "8:   \t2.680000066757202%\n",
      "6:   \t0.10000000149011612%\n",
      "--------\n",
      "\n",
      "\n",
      "PROMPT: recipe for roasted vegetables | chop 1 / 8\n",
      "cup:   \t44.959999084472656%\n",
      "inch:   \t26.8799991607666%\n",
      "teaspoon:   \t5.570000171661377%\n",
      "\":   \t4.289999961853027%\n",
      "of:   \t4.230000019073486%\n",
      "--------\n",
      "\n"
     ]
    }
   ],
   "source": [
    "print_probs(info, vocab)"
   ]
  },
  {
   "cell_type": "code",
   "execution_count": 30,
   "id": "jX7GVn98TxBK",
   "metadata": {
    "colab": {
     "base_uri": "https://localhost:8080/"
    },
    "id": "jX7GVn98TxBK",
    "outputId": "fda1e975-51f4-412d-8ef2-4473641061f0"
   },
   "outputs": [
    {
     "name": "stdout",
     "output_type": "stream",
     "text": [
      "\n",
      "generated text:\n",
      "recipe for roasted vegetables | chop 1 / 4 cup\n",
      "\n"
     ]
    }
   ],
   "source": [
    "info = text_generator.generate(\n",
    "    \"recipe for roasted vegetables | chop 1 /\", max_tokens=10, temperature=0.2\n",
    ")"
   ]
  },
  {
   "cell_type": "code",
   "execution_count": 31,
   "id": "YkRQVKZpT0ce",
   "metadata": {
    "colab": {
     "base_uri": "https://localhost:8080/"
    },
    "id": "YkRQVKZpT0ce",
    "outputId": "8cb79cfe-2b5c-4dba-cefe-e124f7b66b39"
   },
   "outputs": [
    {
     "name": "stdout",
     "output_type": "stream",
     "text": [
      "\n",
      "PROMPT: recipe for roasted vegetables | chop 1 /\n",
      "4:   \t85.55000305175781%\n",
      "2:   \t14.279999732971191%\n",
      "3:   \t0.18000000715255737%\n",
      "8:   \t0.0%\n",
      "6:   \t0.0%\n",
      "--------\n",
      "\n",
      "\n",
      "PROMPT: recipe for roasted vegetables | chop 1 / 4\n",
      "cup:   \t100.0%\n",
      "inch:   \t0.0%\n",
      "teaspoon:   \t0.0%\n",
      "tsp:   \t0.0%\n",
      "of:   \t0.0%\n",
      "--------\n",
      "\n"
     ]
    }
   ],
   "source": [
    "print_probs(info, vocab)"
   ]
  },
  {
   "cell_type": "code",
   "execution_count": 32,
   "id": "RE6jM4RsT3Uc",
   "metadata": {
    "colab": {
     "base_uri": "https://localhost:8080/"
    },
    "id": "RE6jM4RsT3Uc",
    "outputId": "917d5af0-883a-49c5-920b-2bcaabded9da"
   },
   "outputs": [
    {
     "name": "stdout",
     "output_type": "stream",
     "text": [
      "\n",
      "generated text:\n",
      "recipe for chocolate ice cream | whisk\n",
      "\n",
      "\n",
      "PROMPT: recipe for chocolate ice cream |\n",
      "whisk:   \t13.5%\n",
      "bring:   \t13.289999961853027%\n",
      "combine:   \t9.390000343322754%\n",
      "in:   \t8.680000305175781%\n",
      "beat:   \t6.340000152587891%\n",
      "--------\n",
      "\n"
     ]
    }
   ],
   "source": [
    "info = text_generator.generate(\n",
    "    \"recipe for chocolate ice cream |\", max_tokens=7, temperature=1.0\n",
    ")\n",
    "print_probs(info, vocab)"
   ]
  },
  {
   "cell_type": "code",
   "execution_count": 33,
   "id": "7uctagS-T6Yg",
   "metadata": {
    "colab": {
     "base_uri": "https://localhost:8080/"
    },
    "id": "7uctagS-T6Yg",
    "outputId": "cbcd1c11-5c98-43d5-c56b-6c1e9da14638"
   },
   "outputs": [
    {
     "name": "stdout",
     "output_type": "stream",
     "text": [
      "\n",
      "generated text:\n",
      "recipe for chocolate ice cream | bring\n",
      "\n",
      "\n",
      "PROMPT: recipe for chocolate ice cream |\n",
      "whisk:   \t44.70000076293945%\n",
      "bring:   \t41.31999969482422%\n",
      "combine:   \t7.28000020980835%\n",
      "in:   \t4.889999866485596%\n",
      "beat:   \t1.0199999809265137%\n",
      "--------\n",
      "\n"
     ]
    }
   ],
   "source": [
    "info = text_generator.generate(\n",
    "    \"recipe for chocolate ice cream |\", max_tokens=7, temperature=0.2\n",
    ")\n",
    "print_probs(info, vocab)"
   ]
  },
  {
   "cell_type": "markdown",
   "id": "32b7ee68-47cf-469d-920d-d0454f15ca9f",
   "metadata": {
    "id": "ZuSL-JupT9Wy"
   },
   "source": [
    "Let's break down exactly **what’s going on here** and how our **trained LSTM model generates text** and how the **temperature parameter** affects word prediction probabilities.\n",
    "\n",
    "---\n",
    "\n",
    "## 📌 What Are We Doing?\n",
    "\n",
    "We're using our trained **LSTM model** to **generate a recipe** step-by-step by predicting **the next word**, given a starting **prompt** (e.g., `\"recipe for roasted vegetables | chop 1 /\"`).\n",
    "\n",
    "Then we're printing:\n",
    "\n",
    "* The **generated words**, and\n",
    "* The **top 5 most likely next words** (with their probabilities)\n",
    "\n",
    "---\n",
    "\n",
    "## 🔥 What Is Temperature?\n",
    "\n",
    "**Temperature** controls how **creative or confident** the model is when choosing the next word:\n",
    "\n",
    "| Temperature | Meaning                                                        |\n",
    "| ----------- | -------------------------------------------------------------- |\n",
    "| **1.0**     | More random / creative (explores lower-probability words more) |\n",
    "| **0.2**     | More confident / safe (sticks to highest-probability choices)  |\n",
    "\n",
    "---\n",
    "\n",
    "## 🧪 Example Breakdown\n",
    "\n",
    "### **Example 1: High Temperature (1.0)**\n",
    "\n",
    "**Prompt:** `\"recipe for roasted vegetables | chop 1 /\"`\n",
    "\n",
    "🧠 **Generated Text:** `\"recipe for roasted vegetables | chop 1 / 8 cup\"`\n",
    "\n",
    "The model chooses `\"8\"` as the next word. The **top 5 possible next words were**:\n",
    "\n",
    "| Token | Probability |\n",
    "| ----- | ----------- |\n",
    "| 4     | 48.46%      |\n",
    "| 2     | 33.87%      |\n",
    "| 3     | 14.10%      |\n",
    "| 8     | 2.68%       |\n",
    "| 6     | 0.10%       |\n",
    "\n",
    "➡️ `\"8\"` had **only 2.68%** chance, but was still picked due to the randomness allowed by temperature = 1.0.\n",
    "\n",
    "Then it predicted `\"cup\"` next:\n",
    "\n",
    "| Word     | Probability |\n",
    "| -------- | ----------- |\n",
    "| cup      | 44.96%      |\n",
    "| inch     | 26.88%      |\n",
    "| teaspoon | 5.57%       |\n",
    "| \"        | 4.29%       |\n",
    "| of       | 4.23%       |\n",
    "\n",
    "---\n",
    "\n",
    "### **Example 2: Low Temperature (0.2)**\n",
    "\n",
    "**Prompt:** `\"recipe for roasted vegetables | chop 1 /\"`\n",
    "\n",
    "🧠 **Generated Text:** `\"recipe for roasted vegetables | chop 1 / 4 cup\"`\n",
    "\n",
    "Now look at the predictions:\n",
    "\n",
    "| Token | Probability |\n",
    "| ----- | ----------- |\n",
    "| 4     | 85.55%      |\n",
    "| 2     | 14.28%      |\n",
    "| 3     | 0.18%       |\n",
    "| 8     | 0.0%        |\n",
    "| 6     | 0.0%        |\n",
    "\n",
    "➡️ The model **chose the top word (\"4\") with 85.55% confidence**, and next picked `\"cup\"` with **100% certainty**.\n",
    "\n",
    "This is **very deterministic behavior**, which is typical for low temperatures.\n",
    "\n",
    "---\n",
    "\n",
    "### **Example 3: Chocolate Ice Cream (Temperature = 1.0)**\n",
    "\n",
    "**Prompt:** `\"recipe for chocolate ice cream |\"`\n",
    "\n",
    "🧠 **Generated Text:** `\"recipe for chocolate ice cream | whisk\"`\n",
    "\n",
    "**Top 5 word options:**\n",
    "\n",
    "| Word    | Probability |\n",
    "| ------- | ----------- |\n",
    "| whisk   | 13.5%       |\n",
    "| bring   | 13.29%      |\n",
    "| combine | 9.39%       |\n",
    "| in      | 8.68%       |\n",
    "| beat    | 6.34%       |\n",
    "\n",
    "✅ So `\"whisk\"` was the top choice, but only barely. Other verbs like `\"bring\"` or `\"combine\"` were close.\n",
    "\n",
    "---\n",
    "\n",
    "### **Example 4: Chocolate Ice Cream (Temperature = 0.2)**\n",
    "\n",
    "🧠 **Generated Text:** `\"recipe for chocolate ice cream | bring\"`\n",
    "\n",
    "**Top 5 options:**\n",
    "\n",
    "| Word    | Probability |\n",
    "| ------- | ----------- |\n",
    "| whisk   | 44.70%      |\n",
    "| bring   | 41.32%      |\n",
    "| combine | 7.28%       |\n",
    "| in      | 4.89%       |\n",
    "| beat    | 1.02%       |\n",
    "\n",
    "➡️ It chose `\"bring\"`, the **second most likely**, but still with a **very high probability**. Lower-temp models still allow some randomness, just less.\n",
    "\n",
    "---\n",
    "\n",
    "## 🧠 What This Tells Us\n",
    "\n",
    "### High Temperature (1.0)\n",
    "\n",
    "* More **creative** and **diverse**\n",
    "* Can pick less obvious words\n",
    "* Sometimes fun, but risky or strange (e.g., \"8 cup\")\n",
    "\n",
    "### Low Temperature (0.2)\n",
    "\n",
    "* More **accurate** and **predictable**\n",
    "* Sticks to top choices (e.g., \"4 cup\")\n",
    "* Safer and more realistic\n",
    "\n",
    "---\n",
    "\n",
    "## 🔍 Summary\n",
    "\n",
    "| Feature          | High Temp (1.0)      | Low Temp (0.2)             |\n",
    "| ---------------- | -------------------- | -------------------------- |\n",
    "| Creativity       | High                 | Low                        |\n",
    "| Risk of mistakes | Higher               | Lower                      |\n",
    "| Repetition       | Lower (more variety) | Higher (repeats top words) |\n",
    "| Use case         | Exploration, fun     | Reliable predictions       |\n",
    "\n",
    "---"
   ]
  }
 ],
 "metadata": {
  "accelerator": "GPU",
  "colab": {
   "collapsed_sections": [
    "f14a2a39-40f4-48e4-97bf-f649b3768a34"
   ],
   "gpuType": "T4",
   "provenance": []
  },
  "kernelspec": {
   "display_name": "Python 3.12.3 (CUDA GPU)",
   "language": "python",
   "name": "cuda_gpu_env"
  },
  "language_info": {
   "codemirror_mode": {
    "name": "ipython",
    "version": 3
   },
   "file_extension": ".py",
   "mimetype": "text/x-python",
   "name": "python",
   "nbconvert_exporter": "python",
   "pygments_lexer": "ipython3",
   "version": "3.12.3"
  }
 },
 "nbformat": 4,
 "nbformat_minor": 5
}
